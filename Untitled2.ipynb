{
 "cells": [
  {
   "cell_type": "code",
   "execution_count": 5,
   "id": "76d066d1",
   "metadata": {},
   "outputs": [
    {
     "name": "stdout",
     "output_type": "stream",
     "text": [
      "Adjacency matrix statistics: min=-0.6422595646780058, max=0.9720801266917362, mean=0.2814029710533174, std=0.2253503263847861\n",
      "[[ 0.          0.97208013  0.90055382 ...  0.00587465 -0.33164363\n",
      "   0.13178224]\n",
      " [ 0.97208013  0.          0.93480687 ... -0.02154726 -0.34650514\n",
      "   0.18492966]\n",
      " [ 0.90055382  0.93480687  0.         ... -0.0729497  -0.3820908\n",
      "   0.23214512]\n",
      " ...\n",
      " [ 0.00587465 -0.02154726 -0.0729497  ...  0.          0.44669075\n",
      "   0.02345888]\n",
      " [-0.33164363 -0.34650514 -0.3820908  ...  0.44669075  0.\n",
      "   0.25317324]\n",
      " [ 0.13178224  0.18492966  0.23214512 ...  0.02345888  0.25317324\n",
      "   0.        ]]\n",
      "Graph has 360 nodes and 64620 edges\n"
     ]
    }
   ],
   "source": [
    "import scipy.io\n",
    "import numpy as np\n",
    "import networkx as nx\n",
    "import os\n",
    "from scipy.stats import ttest_rel, ttest_ind\n",
    "\n",
    "# Function to load data\n",
    "def load_data(file_path):\n",
    "    mat = scipy.io.loadmat(file_path)\n",
    "    key = [k for k in mat.keys() if not k.startswith('__')][0]\n",
    "    matrix = mat[key]\n",
    "    return matrix\n",
    "\n",
    "\n",
    "# Load data for specific files\n",
    "file_path = '/Users/shenxiaoyu/Desktop/Brain data/tdcsfc_s2.mat'\n",
    "matrix = load_data(file_path)\n",
    "adj_matrix = matrix[0]\n",
    "\n",
    "# Check for self-loops and remove them\n",
    "np.fill_diagonal(adj_matrix, 0)\n",
    "\n",
    "# Print basic statistics of the adjacency matrix\n",
    "print(f\"Adjacency matrix statistics: min={adj_matrix.min()}, max={adj_matrix.max()}, mean={adj_matrix.mean()}, std={adj_matrix.std()}\")\n",
    "\n",
    "# Convert to NetworkX graph\n",
    "G = nx.from_numpy_matrix(adj_matrix)\n",
    "\n",
    "# Print basic info about the graph for debugging\n",
    "print(f\"Graph has {G.number_of_nodes()} nodes and {G.number_of_edges()} edges\")\n",
    "\n"
   ]
  },
  {
   "cell_type": "code",
   "execution_count": null,
   "id": "2e224843",
   "metadata": {},
   "outputs": [],
   "source": []
  }
 ],
 "metadata": {
  "kernelspec": {
   "display_name": "Python 3 (ipykernel)",
   "language": "python",
   "name": "python3"
  },
  "language_info": {
   "codemirror_mode": {
    "name": "ipython",
    "version": 3
   },
   "file_extension": ".py",
   "mimetype": "text/x-python",
   "name": "python",
   "nbconvert_exporter": "python",
   "pygments_lexer": "ipython3",
   "version": "3.9.7"
  }
 },
 "nbformat": 4,
 "nbformat_minor": 5
}
